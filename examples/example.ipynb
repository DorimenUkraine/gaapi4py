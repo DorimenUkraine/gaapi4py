{
 "cells": [
  {
   "cell_type": "markdown",
   "metadata": {},
   "source": [
    "### Import libraries"
   ]
  },
  {
   "cell_type": "code",
   "execution_count": 1,
   "metadata": {},
   "outputs": [],
   "source": [
    "from datetime import date, timedelta\n",
    "import pandas as pd\n",
    "from gaapi4py import GAClient"
   ]
  },
  {
   "cell_type": "markdown",
   "metadata": {},
   "source": [
    "### Define constants"
   ]
  },
  {
   "cell_type": "code",
   "execution_count": 2,
   "metadata": {},
   "outputs": [],
   "source": [
    "PATH_TO_SERVICE_ACCOUNT = 'PATH/TO/SERVICE_ACCOUNT.json'\n",
    "VIEW_ID = '<YOUR_VIEW_ID>'\n",
    "\n",
    "SESSION_ID_CD_INDEX = '1'\n",
    "HIT_ID_CD_INDEX = '2'"
   ]
  },
  {
   "cell_type": "markdown",
   "metadata": {},
   "source": [
    "### Instantiate the client"
   ]
  },
  {
   "cell_type": "code",
   "execution_count": 3,
   "metadata": {},
   "outputs": [],
   "source": [
    "c = GAClient(PATH_TO_SERVICE_ACCOUNT)\n",
    "c.set_view_id(VIEW_ID)"
   ]
  },
  {
   "cell_type": "code",
   "execution_count": 4,
   "metadata": {},
   "outputs": [],
   "source": [
    "request_body = {\n",
    "    'view_id': VIEW_ID,\n",
    "    'start_date': '2019-01-01',\n",
    "    'end_date': '2019-01-31',\n",
    "    'dimensions': {\n",
    "        'ga:sourceMedium',\n",
    "        'ga:date'\n",
    "    },\n",
    "    'metrics': {\n",
    "        'ga:sessions'\n",
    "    }\n",
    "}\n",
    "response = c.get_all_data(request_body)"
   ]
  },
  {
   "cell_type": "code",
   "execution_count": 5,
   "metadata": {},
   "outputs": [
    {
     "data": {
      "text/plain": [
       "{'isDataGolden': True,\n",
       " 'nextPageToken': None,\n",
       " 'samplesReadCounts': None,\n",
       " 'samplingSpaceSizes': None}"
      ]
     },
     "execution_count": 5,
     "metadata": {},
     "output_type": "execute_result"
    }
   ],
   "source": [
    "response['info']"
   ]
  },
  {
   "cell_type": "code",
   "execution_count": 6,
   "metadata": {},
   "outputs": [
    {
     "data": {
      "text/html": [
       "<div>\n",
       "<style scoped>\n",
       "    .dataframe tbody tr th:only-of-type {\n",
       "        vertical-align: middle;\n",
       "    }\n",
       "\n",
       "    .dataframe tbody tr th {\n",
       "        vertical-align: top;\n",
       "    }\n",
       "\n",
       "    .dataframe thead th {\n",
       "        text-align: right;\n",
       "    }\n",
       "</style>\n",
       "<table border=\"1\" class=\"dataframe\">\n",
       "  <thead>\n",
       "    <tr style=\"text-align: right;\">\n",
       "      <th></th>\n",
       "      <th>date</th>\n",
       "      <th>sourceMedium</th>\n",
       "      <th>sessions</th>\n",
       "    </tr>\n",
       "  </thead>\n",
       "  <tbody>\n",
       "    <tr>\n",
       "      <th>0</th>\n",
       "      <td>20190101</td>\n",
       "      <td>(direct) / (none)</td>\n",
       "      <td>1996</td>\n",
       "    </tr>\n",
       "    <tr>\n",
       "      <th>1</th>\n",
       "      <td>20190101</td>\n",
       "      <td>(not set) / (not set)</td>\n",
       "      <td>1</td>\n",
       "    </tr>\n",
       "  </tbody>\n",
       "</table>\n",
       "</div>"
      ],
      "text/plain": [
       "       date           sourceMedium sessions\n",
       "0  20190101      (direct) / (none)     1996\n",
       "1  20190101  (not set) / (not set)        1"
      ]
     },
     "execution_count": 6,
     "metadata": {},
     "output_type": "execute_result"
    }
   ],
   "source": [
    "response['data'].head(2) # Pandas dataframe that contains data from GA"
   ]
  },
  {
   "cell_type": "markdown",
   "metadata": {},
   "source": [
    "### Get data daily to avoid sampling"
   ]
  },
  {
   "cell_type": "code",
   "execution_count": 7,
   "metadata": {},
   "outputs": [],
   "source": [
    "start_date = date(2019,7,1)\n",
    "end_date = date(2019,7,14)\n",
    "\n",
    "df_list = []\n",
    "iter_date = start_date\n",
    "while iter_date <= end_date:\n",
    "    c.set_dateranges(iter_date, iter_date)\n",
    "    response = c.get_all_data({\n",
    "        'dimensions': {\n",
    "            'ga:sourceMedium',\n",
    "            'ga:deviceCategory'\n",
    "        },\n",
    "        'metrics': {\n",
    "            'ga:sessions'\n",
    "        }\n",
    "    })\n",
    "    df = response['data']\n",
    "    df['date'] = iter_date\n",
    "    df_list.append(response['data'])\n",
    "    iter_date = iter_date + timedelta(days=1)\n",
    "    \n",
    "all_data = pd.concat(df_list, ignore_index=True)"
   ]
  },
  {
   "cell_type": "markdown",
   "metadata": {},
   "source": [
    "### Get per-session data (using session_id custom dimension)"
   ]
  },
  {
   "cell_type": "code",
   "execution_count": 8,
   "metadata": {},
   "outputs": [],
   "source": [
    "one_day = date(2019,7,1)\n",
    "c.set_dateranges(one_day, one_day)\n",
    "\n",
    "session_id = 'dimension' + SESSION_ID_CD_INDEX\n",
    "hit_id = 'dimension' + HIT_ID_CD_INDEX\n",
    "\n",
    "response_1 = c.get_all_data({\n",
    "    'dimensions': {\n",
    "        'ga:' + session_id,\n",
    "        'ga:sourceMedium',\n",
    "        'ga:campaign',\n",
    "        'ga:keyword',\n",
    "        'ga:adContent',\n",
    "        'ga:userType',\n",
    "        'ga:deviceCategory'\n",
    "    },\n",
    "    'metrics': {\n",
    "        'ga:sessions'\n",
    "    }\n",
    "})\n",
    "\n",
    "response_2 = c.get_all_data({\n",
    "    'dimensions': {\n",
    "        'ga:' + session_id,\n",
    "        'ga:landingPagePath',\n",
    "        'ga:secondPagePath',\n",
    "        'ga:exitPagePath',\n",
    "        'ga:pageDepth',\n",
    "        'ga:daysSinceLastSession',\n",
    "        'ga:sessionCount'\n",
    "    },\n",
    "    'metrics': {\n",
    "        'ga:hits',\n",
    "        'ga:totalEvents',\n",
    "        'ga:bounces',\n",
    "        'ga:sessionDuration'\n",
    "    }\n",
    "})\n",
    "all_data = response_1['data'].merge(response_2['data'], on=session_id, how='left')\n",
    "all_data.rename(index=str, columns={\n",
    "    session_id: 'session_id'\n",
    "}, inplace=True)"
   ]
  },
  {
   "cell_type": "code",
   "execution_count": 9,
   "metadata": {},
   "outputs": [
    {
     "data": {
      "text/html": [
       "<div>\n",
       "<style scoped>\n",
       "    .dataframe tbody tr th:only-of-type {\n",
       "        vertical-align: middle;\n",
       "    }\n",
       "\n",
       "    .dataframe tbody tr th {\n",
       "        vertical-align: top;\n",
       "    }\n",
       "\n",
       "    .dataframe thead th {\n",
       "        text-align: right;\n",
       "    }\n",
       "</style>\n",
       "<table border=\"1\" class=\"dataframe\">\n",
       "  <thead>\n",
       "    <tr style=\"text-align: right;\">\n",
       "      <th></th>\n",
       "      <th>adContent</th>\n",
       "      <th>sourceMedium</th>\n",
       "      <th>deviceCategory</th>\n",
       "      <th>userType</th>\n",
       "      <th>keyword</th>\n",
       "      <th>campaign</th>\n",
       "      <th>session_id</th>\n",
       "      <th>sessions</th>\n",
       "      <th>sessionCount</th>\n",
       "      <th>pageDepth</th>\n",
       "      <th>secondPagePath</th>\n",
       "      <th>exitPagePath</th>\n",
       "      <th>daysSinceLastSession</th>\n",
       "      <th>landingPagePath</th>\n",
       "      <th>sessionDuration</th>\n",
       "      <th>hits</th>\n",
       "      <th>totalEvents</th>\n",
       "      <th>bounces</th>\n",
       "    </tr>\n",
       "  </thead>\n",
       "  <tbody>\n",
       "    <tr>\n",
       "      <th>0</th>\n",
       "      <td>(not set)</td>\n",
       "      <td>(direct) / (none)</td>\n",
       "      <td>desktop</td>\n",
       "      <td>New Visitor</td>\n",
       "      <td>(not set)</td>\n",
       "      <td>(not set)</td>\n",
       "      <td>1013324599.1562008915_1562009225129</td>\n",
       "      <td>1</td>\n",
       "      <td>1</td>\n",
       "      <td>14</td>\n",
       "      <td>/login</td>\n",
       "      <td>/profile</td>\n",
       "      <td>0</td>\n",
       "      <td>/</td>\n",
       "      <td>310.0</td>\n",
       "      <td>24</td>\n",
       "      <td>10</td>\n",
       "      <td>0</td>\n",
       "    </tr>\n",
       "    <tr>\n",
       "      <th>1</th>\n",
       "      <td>(not set)</td>\n",
       "      <td>(direct) / (none)</td>\n",
       "      <td>desktop</td>\n",
       "      <td>New Visitor</td>\n",
       "      <td>(not set)</td>\n",
       "      <td>(not set)</td>\n",
       "      <td>1015630571.1561985110_1561985307686</td>\n",
       "      <td>1</td>\n",
       "      <td>1</td>\n",
       "      <td>3</td>\n",
       "      <td>/</td>\n",
       "      <td>/</td>\n",
       "      <td>0</td>\n",
       "      <td>/</td>\n",
       "      <td>198.0</td>\n",
       "      <td>3</td>\n",
       "      <td>0</td>\n",
       "      <td>0</td>\n",
       "    </tr>\n",
       "  </tbody>\n",
       "</table>\n",
       "</div>"
      ],
      "text/plain": [
       "   adContent       sourceMedium deviceCategory     userType    keyword  \\\n",
       "0  (not set)  (direct) / (none)        desktop  New Visitor  (not set)   \n",
       "1  (not set)  (direct) / (none)        desktop  New Visitor  (not set)   \n",
       "\n",
       "    campaign                           session_id sessions sessionCount  \\\n",
       "0  (not set)  1013324599.1562008915_1562009225129        1            1   \n",
       "1  (not set)  1015630571.1561985110_1561985307686        1            1   \n",
       "\n",
       "  pageDepth      secondPagePath                       exitPagePath  \\\n",
       "0        14  /login  /profile   \n",
       "1         3       /                      /   \n",
       "\n",
       "  daysSinceLastSession                                 landingPagePath  \\\n",
       "0                    0  /   \n",
       "1                    0                                   /   \n",
       "\n",
       "  sessionDuration hits totalEvents bounces  \n",
       "0           310.0   24          10       0  \n",
       "1           198.0    3           0       0  "
      ]
     },
     "execution_count": 9,
     "metadata": {},
     "output_type": "execute_result"
    }
   ],
   "source": [
    "all_data.head(2)"
   ]
  },
  {
   "cell_type": "markdown",
   "metadata": {},
   "source": [
    "### Get hit-level data (using hit_id custom dimension)"
   ]
  },
  {
   "cell_type": "code",
   "execution_count": 10,
   "metadata": {},
   "outputs": [
    {
     "data": {
      "text/html": [
       "<div>\n",
       "<style scoped>\n",
       "    .dataframe tbody tr th:only-of-type {\n",
       "        vertical-align: middle;\n",
       "    }\n",
       "\n",
       "    .dataframe tbody tr th {\n",
       "        vertical-align: top;\n",
       "    }\n",
       "\n",
       "    .dataframe thead th {\n",
       "        text-align: right;\n",
       "    }\n",
       "</style>\n",
       "<table border=\"1\" class=\"dataframe\">\n",
       "  <thead>\n",
       "    <tr style=\"text-align: right;\">\n",
       "      <th></th>\n",
       "      <th>dateHourMinute</th>\n",
       "      <th>previousPagePath</th>\n",
       "      <th>pagePath</th>\n",
       "      <th>hit_id</th>\n",
       "      <th>session_id</th>\n",
       "      <th>pageviews</th>\n",
       "      <th>hits</th>\n",
       "      <th>totalEvents_x</th>\n",
       "      <th>eventAction</th>\n",
       "      <th>eventCategory</th>\n",
       "      <th>eventLabel</th>\n",
       "      <th>totalEvents_y</th>\n",
       "    </tr>\n",
       "  </thead>\n",
       "  <tbody>\n",
       "    <tr>\n",
       "      <th>0</th>\n",
       "      <td>201907010000</td>\n",
       "      <td>(entrance)</td>\n",
       "      <td>/</td>\n",
       "      <td>2019-07-01T02:00:11.257-05:00</td>\n",
       "      <td>980484191.1558123542_1561964715302</td>\n",
       "      <td>1</td>\n",
       "      <td>1</td>\n",
       "      <td>0</td>\n",
       "      <td>NaN</td>\n",
       "      <td>NaN</td>\n",
       "      <td>NaN</td>\n",
       "      <td>NaN</td>\n",
       "    </tr>\n",
       "    <tr>\n",
       "      <th>1</th>\n",
       "      <td>201907010000</td>\n",
       "      <td>(entrance)</td>\n",
       "      <td>/</td>\n",
       "      <td>2019-07-01T09:00:43.77+02:00</td>\n",
       "      <td>25596428.1561921173_1561964593959</td>\n",
       "      <td>1</td>\n",
       "      <td>1</td>\n",
       "      <td>0</td>\n",
       "      <td>NaN</td>\n",
       "      <td>NaN</td>\n",
       "      <td>NaN</td>\n",
       "      <td>NaN</td>\n",
       "    </tr>\n",
       "  </tbody>\n",
       "</table>\n",
       "</div>"
      ],
      "text/plain": [
       "  dateHourMinute previousPagePath       pagePath  \\\n",
       "0   201907010000       (entrance)  /   \n",
       "1   201907010000       (entrance)  /   \n",
       "\n",
       "                          hit_id                          session_id  \\\n",
       "0  2019-07-01T02:00:11.257-05:00  980484191.1558123542_1561964715302   \n",
       "1   2019-07-01T09:00:43.77+02:00   25596428.1561921173_1561964593959   \n",
       "\n",
       "  pageviews hits totalEvents_x eventAction eventCategory eventLabel  \\\n",
       "0         1    1             0         NaN           NaN        NaN   \n",
       "1         1    1             0         NaN           NaN        NaN   \n",
       "\n",
       "  totalEvents_y  \n",
       "0           NaN  \n",
       "1           NaN  "
      ]
     },
     "execution_count": 10,
     "metadata": {},
     "output_type": "execute_result"
    }
   ],
   "source": [
    "hit_id = 'dimension' + HIT_ID_CD_INDEX\n",
    "\n",
    "one_day = date(2019,7,1)\n",
    "c.set_dateranges(one_day, one_day)\n",
    "\n",
    "hits_response_1 = c.get_all_data({\n",
    "    'dimensions': {\n",
    "        'ga:' + session_id,\n",
    "        'ga:' + hit_id,\n",
    "        'ga:pagePath',\n",
    "        'ga:previousPagePath',\n",
    "        'ga:dateHourMinute'\n",
    "    },\n",
    "    'metrics': {\n",
    "        'ga:hits',\n",
    "        'ga:totalEvents',\n",
    "        'ga:pageviews'\n",
    "    }\n",
    "})\n",
    "\n",
    "hits_response_2 = c.get_all_data({\n",
    "    'dimensions': {\n",
    "        'ga:' + session_id,\n",
    "        'ga:' + hit_id,\n",
    "        'ga:eventCategory',\n",
    "        'ga:eventAction',\n",
    "        'ga:eventLabel'\n",
    "    },\n",
    "    'metrics': {\n",
    "        'ga:totalEvents'\n",
    "    }\n",
    "})\n",
    "all_hits_data = hits_response_1['data'].merge(hits_response_2['data'], \n",
    "                                              on=[session_id, hit_id], \n",
    "                                              how='left')\n",
    "all_hits_data.rename(index=str, columns={\n",
    "    session_id: 'session_id',\n",
    "    hit_id: 'hit_id'\n",
    "}, inplace=True)\n",
    "all_hits_data.head(2)"
   ]
  }
 ],
 "metadata": {
  "kernelspec": {
   "display_name": "Python 3",
   "language": "python",
   "name": "python3"
  },
  "language_info": {
   "codemirror_mode": {
    "name": "ipython",
    "version": 3
   },
   "file_extension": ".py",
   "mimetype": "text/x-python",
   "name": "python",
   "nbconvert_exporter": "python",
   "pygments_lexer": "ipython3",
   "version": "3.6.8"
  }
 },
 "nbformat": 4,
 "nbformat_minor": 2
}
